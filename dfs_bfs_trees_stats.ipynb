{
  "nbformat": 4,
  "nbformat_minor": 0,
  "metadata": {
    "colab": {
      "name": "dfs-bfs_trees_stats.ipynb",
      "provenance": [],
      "authorship_tag": "ABX9TyPlWjYE4lakT/zNBlNGK0Ro",
      "include_colab_link": true
    },
    "kernelspec": {
      "name": "python3",
      "display_name": "Python 3"
    }
  },
  "cells": [
    {
      "cell_type": "markdown",
      "metadata": {
        "id": "view-in-github",
        "colab_type": "text"
      },
      "source": [
        "<a href=\"https://colab.research.google.com/github/pastrop/pyProjects/blob/master/dfs_bfs_trees_stats.ipynb\" target=\"_parent\"><img src=\"https://colab.research.google.com/assets/colab-badge.svg\" alt=\"Open In Colab\"/></a>"
      ]
    },
    {
      "cell_type": "code",
      "metadata": {
        "id": "UOMhmI2B9qf_"
      },
      "source": [
        "# DFS Graph\n",
        "def dfs(graph, start):\n",
        "  stack = []\n",
        "  visited = set()\n",
        "  stack.append(start)\n",
        "  while stack:\n",
        "    node = stack.pop()\n",
        "    if node not in visited:\n",
        "      visited.add(node)\n",
        "      for item in graph.node - visited:\n",
        "        stack.append(item)\n",
        "  return visited"
      ],
      "execution_count": null,
      "outputs": []
    },
    {
      "cell_type": "code",
      "metadata": {
        "id": "pldCAxWC_BCo"
      },
      "source": [
        "# DFS Binary Tree\n",
        "def bfs(root):\n",
        "  stack=[]\n",
        "  visited = set()\n",
        "  stack.append(root)\n",
        "  while stack:\n",
        "    node = stack.pop()\n",
        "    visited.add(node)\n",
        "    if node.left:\n",
        "      stack.append(node.left)\n",
        "    if node.right:\n",
        "      stack.append(node.right)  \n",
        "  return visited    "
      ],
      "execution_count": null,
      "outputs": []
    },
    {
      "cell_type": "code",
      "metadata": {
        "id": "f0qZBJ4xB_Os"
      },
      "source": [
        "# BFS Graph\n",
        "def bfs(graph,start):\n",
        "  queue = []\n",
        "  visisted = set()\n",
        "  while queue:\n",
        "    queue.pop(0)\n",
        "    if node not in visted:\n",
        "      visited.add(node)\n",
        "      queue.extend(graph.node-visited)"
      ],
      "execution_count": null,
      "outputs": []
    },
    {
      "cell_type": "code",
      "metadata": {
        "id": "_hsNVAupbbV6"
      },
      "source": [
        "#locked rooms\n",
        "rooms = [[1, 2], [2], [0], []]\n",
        "number_rooms = len(rooms)\n",
        "visited = set()\n",
        "stack = []\n",
        "stack.append(0)\n",
        "while stack:\n",
        "  room_num = stack.pop()\n",
        "  if room_num not in visited:\n",
        "    visited.add(room_num)\n",
        "    stack.extend(set(rooms[room_num])-visited)\n",
        "print(visited)    "
      ],
      "execution_count": null,
      "outputs": []
    },
    {
      "cell_type": "code",
      "metadata": {
        "id": "M65pG3oDkIun"
      },
      "source": [
        "# tree paths\n",
        "def tree_to_leaves(root, path = '', paths = []):\n",
        "  if root == None:\n",
        "    return paths\n",
        "  path +=str(node.value)\n",
        "  if root.left == None and root.right == None:\n",
        "    paths.add(path)\n",
        "    return\n",
        "  return tree_to_leaves(root.left, path+'->', paths) or tree_to_leaves(root.right, path+'->', paths)  "
      ],
      "execution_count": null,
      "outputs": []
    },
    {
      "cell_type": "code",
      "metadata": {
        "colab": {
          "base_uri": "https://localhost:8080/"
        },
        "id": "NBs7qnJPr6bo",
        "outputId": "36003037-ec8c-4d88-98fb-30f97a11c234"
      },
      "source": [
        "# Kadane Algo\n",
        "ex = [-2, -3, 4, -1, -2, 1, 5, -3]\n",
        "def kadane(lst):\n",
        "  sum = 0\n",
        "  current = 0\n",
        "  for item in lst:\n",
        "    current += item\n",
        "    if current < 0:\n",
        "      current = 0\n",
        "    if current >= sum:\n",
        "      sum = current\n",
        "  return sum\n",
        "\n",
        "print(kadane(ex))"
      ],
      "execution_count": null,
      "outputs": [
        {
          "output_type": "stream",
          "text": [
            "7\n"
          ],
          "name": "stdout"
        }
      ]
    },
    {
      "cell_type": "code",
      "metadata": {
        "colab": {
          "base_uri": "https://localhost:8080/"
        },
        "id": "Q_-xDI7LFiJ6",
        "outputId": "7b9f5a58-45bb-44e7-f045-fa3a73e77ac3"
      },
      "source": [
        "a = [2, 1, 3, 5, 3, 2]\n",
        "def firstDuplicate(a):\n",
        "    dct = {}\n",
        "    for ind, item in enumerate(a):\n",
        "        if item not in dct.keys():\n",
        "            dct[item] = [ind]\n",
        "        else:\n",
        "            dct[item].append(ind)\n",
        "    indexes = []        \n",
        "    for value in dct.values():\n",
        "        if len(value)>1:\n",
        "            indexes.append(value)\n",
        "    print(dct)\n",
        "    return sorted(indexes)[0][0]  \n",
        "firstDuplicate(a)\n",
        "\n"
      ],
      "execution_count": null,
      "outputs": [
        {
          "output_type": "stream",
          "text": [
            "{2: [0, 5], 1: [1], 3: [2, 4], 5: [3]}\n"
          ],
          "name": "stdout"
        },
        {
          "output_type": "execute_result",
          "data": {
            "text/plain": [
              "0"
            ]
          },
          "metadata": {
            "tags": []
          },
          "execution_count": 25
        }
      ]
    },
    {
      "cell_type": "code",
      "metadata": {
        "id": "guomMwwW-q_2"
      },
      "source": [
        "a = [2, 1, 3, 5, 3, 2]\n",
        "b = set(a)\n",
        "common = max(b,key = a.count)"
      ],
      "execution_count": null,
      "outputs": []
    },
    {
      "cell_type": "code",
      "metadata": {
        "id": "sCXj4iBoUHX_"
      },
      "source": [
        "#Histogram - max water volume problem\n",
        "hist = [4,0,0,6,0,0,3,0,5,0,1]"
      ],
      "execution_count": null,
      "outputs": []
    },
    {
      "cell_type": "code",
      "metadata": {
        "id": "QMfuXmdlfGmm"
      },
      "source": [
        "#Monte-Carlo Simulation\n",
        "import numpy as np"
      ],
      "execution_count": null,
      "outputs": []
    },
    {
      "cell_type": "code",
      "metadata": {
        "colab": {
          "base_uri": "https://localhost:8080/"
        },
        "id": "13G_xrziaTH8",
        "outputId": "582e241d-0fef-4830-84d0-f9fbb1af9182"
      },
      "source": [
        "n = 20 # number of trials\n",
        "p = 0.1 # probability\n",
        "trials = 20000 # number of trials\n",
        "sum(np.random.binomial(20, 0.7, 20000) == 6)/20000."
      ],
      "execution_count": null,
      "outputs": [
        {
          "output_type": "execute_result",
          "data": {
            "text/plain": [
              "0.0002"
            ]
          },
          "metadata": {
            "tags": []
          },
          "execution_count": 10
        }
      ]
    },
    {
      "cell_type": "code",
      "metadata": {
        "id": "Lafz-2b8yx6V"
      },
      "source": [
        "# Binary Search\n",
        "def b_search(lst, target,left,right):\n",
        "  if right >= left:\n",
        "    med = left+(right-left)//2\n",
        "    if med >= len(lst):\n",
        "      return f'nothing is found'\n",
        "    print(f'index - {med}')\n",
        "    if lst[med] == target:\n",
        "      return f'find it at index - {med}'\n",
        "    if lst[med] > target:\n",
        "      return b_search(lst, target,left,med-1)\n",
        "    else:\n",
        "      return b_search(lst,target,med+1,right)\n",
        "  else:\n",
        "     return f'nothing is found'        "
      ],
      "execution_count": null,
      "outputs": []
    },
    {
      "cell_type": "code",
      "metadata": {
        "id": "ai_kYCkT0iTx",
        "colab": {
          "base_uri": "https://localhost:8080/",
          "height": 86
        },
        "outputId": "fd8df942-0068-4027-f195-7ee2f1e70eff"
      },
      "source": [
        "b_search([1,2,3,4,5,6,7,8], 8, 0, len([1,2,3,4,5,6,7,8]))"
      ],
      "execution_count": null,
      "outputs": [
        {
          "output_type": "stream",
          "text": [
            "index - 4\n",
            "index - 6\n",
            "index - 7\n"
          ],
          "name": "stdout"
        },
        {
          "output_type": "execute_result",
          "data": {
            "application/vnd.google.colaboratory.intrinsic+json": {
              "type": "string"
            },
            "text/plain": [
              "'find it at index - 7'"
            ]
          },
          "metadata": {
            "tags": []
          },
          "execution_count": 128
        }
      ]
    },
    {
      "cell_type": "code",
      "metadata": {
        "id": "hUdumxC66vRC"
      },
      "source": [
        "def b_search(arr,x, low, high):\n",
        "    # Check base case\n",
        "    if high >= low:\n",
        " \n",
        "        mid = low+(high - low) // 2\n",
        " \n",
        "        # If element is present at the middle itself\n",
        "        if arr[mid] == x:\n",
        "            return mid\n",
        " \n",
        "        # If element is smaller than mid, then it can only\n",
        "        # be present in left subarray\n",
        "        elif arr[mid] > x:\n",
        "            return b_search(arr, low, mid - 1, x)\n",
        " \n",
        "        # Else the element can only be present in right subarray\n",
        "        else:\n",
        "            return b_search(arr, mid + 1, high, x)\n",
        " \n",
        "    else:\n",
        "        # Element is not present in the array\n",
        "        return -1"
      ],
      "execution_count": null,
      "outputs": []
    },
    {
      "cell_type": "code",
      "metadata": {
        "id": "Si7qyFZgAtL4"
      },
      "source": [
        "# balanced paranthesis\n",
        "def balanced_paren(lst, pos, n, open, close):\n",
        "  if pos == n:\n",
        "    print(''.join(lst))\n",
        "  else:\n",
        "    if open < n:\n",
        "      lst[pos] = '('\n",
        "      balanced_paren(lst, pos+1, open+1,close)\n",
        "    if close<open:\n",
        "      lst[pos] = ')'\n",
        "      balanced_paren(lst, pos+1, open, close+1)    "
      ],
      "execution_count": null,
      "outputs": []
    },
    {
      "cell_type": "code",
      "metadata": {
        "id": "RmHHju8VXuqw"
      },
      "source": [
        "# find pivot point\n",
        "def pivot(lst, left, right=len(lst)):\n",
        "  if right=<left:\n",
        "    return 'list is sorted'\n",
        "  med = left+(right-left)//2\n",
        "  if lst[med]>lst[med+1]:\n",
        "    return f'pivot - {med}'\n",
        "  else:\n",
        "    return pivot(lst,med,right)  "
      ],
      "execution_count": null,
      "outputs": []
    },
    {
      "cell_type": "code",
      "metadata": {
        "colab": {
          "base_uri": "https://localhost:8080/"
        },
        "id": "t0nXNIefn6vW",
        "outputId": "9786e546-baa9-4469-d4c9-1868c909eaec"
      },
      "source": [
        "# sum to target\n",
        "def subset_sum(numbers, target, partial=[]):\n",
        "    s = sum(partial)\n",
        "\n",
        "    # check if the partial sum is equals to target\n",
        "    if s == target:\n",
        "        print(\"sum(%s)=%s\" % (partial, target))\n",
        "    if s >= target:\n",
        "        return  # if we reach the number why bother to continue\n",
        "\n",
        "    for i in range(len(numbers)):\n",
        "        n = numbers[i]\n",
        "        remaining = numbers[i + 1:]\n",
        "        subset_sum(remaining, target, partial + [n])\n",
        " \n",
        " subset_sum([3, 3, 9, 8, 4, 5, 7, 10], 15)"
      ],
      "execution_count": 18,
      "outputs": [
        {
          "output_type": "stream",
          "text": [
            "value -5\n",
            "multiple - 1\n",
            "value -4\n",
            "multiple - 1\n",
            "value -1\n",
            "multiple - 1\n"
          ],
          "name": "stdout"
        }
      ]
    },
    {
      "cell_type": "code",
      "metadata": {
        "id": "8efE8sHU7z-L",
        "outputId": "84af39b7-0605-42aa-93cf-12de9a95f421",
        "colab": {
          "base_uri": "https://localhost:8080/"
        }
      },
      "source": [
        "#number of jumps\n",
        "nums = [2,3,1,1,4]\n",
        "rightmost = 0\n",
        "last = len(nums)\n",
        "jumps = 0\n",
        "for item, ind in enumerate(nums):\n",
        "  if ind + rightmost >= last:\n",
        "    jumps += 1\n",
        "    return True\n",
        "  if rightmost < item+ind:\n",
        "    rightmost = item+ind\n",
        "    jumps += 1\n",
        "return False       "
      ],
      "execution_count": 16,
      "outputs": [
        {
          "output_type": "execute_result",
          "data": {
            "text/plain": [
              "{2: 5, 3: 4, 6: 1, 7: 0}"
            ]
          },
          "metadata": {
            "tags": []
          },
          "execution_count": 16
        }
      ]
    },
    {
      "cell_type": "code",
      "metadata": {
        "id": "yOfTYLei8BYm",
        "outputId": "e58ac488-e1bf-422e-91ef-c634ad4a0dae",
        "colab": {
          "base_uri": "https://localhost:8080/"
        }
      },
      "source": [
        "#robot in in the grid\n",
        "grid = [[0]*n]*m\n",
        "for i in range(n):\n",
        "  grid[i][0] = 1\n",
        "for i in range(m):\n",
        "  grid[0][i] = 1\n",
        "for i in range(1,n):\n",
        "  for j in range(1,m):\n",
        "    grid[i,j] = grid[i-1][j]+grid[i][j-1]\n",
        "res = grid[-1][-1]    "
      ],
      "execution_count": 16,
      "outputs": [
        {
          "output_type": "stream",
          "text": [
            "None\n"
          ],
          "name": "stdout"
        }
      ]
    },
    {
      "cell_type": "code",
      "metadata": {
        "id": "ySedoYyEbZI-"
      },
      "source": [
        "#bfs path\n",
        "def bfs(graph, start,target):\n",
        "  queue = [(start,[start])]\n",
        "  while queue:\n",
        "    node,path = gueue.pop(0)\n",
        "    for item in graph.node-path:\n",
        "      if item == target:\n",
        "        return path+[item]\n",
        "      else:\n",
        "        queue.add((item, path+[item]))  "
      ],
      "execution_count": null,
      "outputs": []
    },
    {
      "cell_type": "code",
      "metadata": {
        "id": "fCoOt00Z4aR6"
      },
      "source": [
        "#subset sum\n",
        " "
      ],
      "execution_count": null,
      "outputs": []
    },
    {
      "cell_type": "code",
      "metadata": {
        "id": "kSl72NLNhEWY"
      },
      "source": [
        "# kadane algo"
      ],
      "execution_count": null,
      "outputs": []
    }
  ]
}