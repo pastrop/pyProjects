{
  "nbformat": 4,
  "nbformat_minor": 0,
  "metadata": {
    "colab": {
      "name": "dfs-bfs_trees_stats.ipynb",
      "provenance": [],
      "authorship_tag": "ABX9TyPfysOX3YJXvOkpG3HLZR+Z",
      "include_colab_link": true
    },
    "kernelspec": {
      "name": "python3",
      "display_name": "Python 3"
    }
  },
  "cells": [
    {
      "cell_type": "markdown",
      "metadata": {
        "id": "view-in-github",
        "colab_type": "text"
      },
      "source": [
        "<a href=\"https://colab.research.google.com/github/pastrop/pyProjects/blob/master/dfs_bfs_trees_stats.ipynb\" target=\"_parent\"><img src=\"https://colab.research.google.com/assets/colab-badge.svg\" alt=\"Open In Colab\"/></a>"
      ]
    },
    {
      "cell_type": "code",
      "metadata": {
        "id": "UOMhmI2B9qf_"
      },
      "source": [
        "# DFS Graph\r\n",
        "def dfs(graph, start):\r\n",
        "  stack = []\r\n",
        "  visited = set()\r\n",
        "  stack.append(start)\r\n",
        "  while stack:\r\n",
        "    node = stack.pop()\r\n",
        "    if node not in visited:\r\n",
        "      visited.add(node)\r\n",
        "      for item in graph.node - visited:\r\n",
        "        stack.append(item)\r\n",
        "  return visited"
      ],
      "execution_count": null,
      "outputs": []
    },
    {
      "cell_type": "code",
      "metadata": {
        "id": "pldCAxWC_BCo"
      },
      "source": [
        "# DFS Binary Tree\r\n",
        "def bfs(root):\r\n",
        "  stack=[]\r\n",
        "  visited = set()\r\n",
        "  stack.append(root)\r\n",
        "  while stack:\r\n",
        "    node = stack.pop()\r\n",
        "    visited.add(node)\r\n",
        "    if node.left:\r\n",
        "      stack.append(node.left)\r\n",
        "    if node.right:\r\n",
        "      stack.append(node.right)  \r\n",
        "  return visited    "
      ],
      "execution_count": null,
      "outputs": []
    },
    {
      "cell_type": "code",
      "metadata": {
        "id": "f0qZBJ4xB_Os"
      },
      "source": [
        "# BFS Graph\r\n",
        "def bfs(graph,start):\r\n",
        "  queue = []\r\n",
        "  visisted = set()\r\n",
        "  while queue:\r\n",
        "    queue.pop(0)\r\n",
        "    if node not in visted:\r\n",
        "      visited.add(node)\r\n",
        "      queue.extend(graph.node-visited)"
      ],
      "execution_count": null,
      "outputs": []
    },
    {
      "cell_type": "code",
      "metadata": {
        "id": "_hsNVAupbbV6"
      },
      "source": [
        "#locked rooms\r\n",
        "rooms = [[1, 2], [2], [0], []]\r\n",
        "number_rooms = len(rooms)\r\n",
        "visited = set()\r\n",
        "stack = []\r\n",
        "stack.append(0)\r\n",
        "while stack:\r\n",
        "  room_num = stack.pop()\r\n",
        "  if room_num not in visited:\r\n",
        "    visited.add(room_num)\r\n",
        "    stack.extend(set(rooms[room_num])-visited)\r\n",
        "print(visited)    "
      ],
      "execution_count": null,
      "outputs": []
    },
    {
      "cell_type": "code",
      "metadata": {
        "id": "M65pG3oDkIun"
      },
      "source": [
        "# tree paths\r\n",
        "def tree_to_leaves(root, path = '', paths = []):\r\n",
        "  if root == None:\r\n",
        "    return paths\r\n",
        "  path +=str(node.value)\r\n",
        "  if root.left == None and root.right == None:\r\n",
        "    paths.add(path)\r\n",
        "    return\r\n",
        "  return tree_to_leaves(root.left, path+'->', paths) or tree_to_leaves(root.right, path+'->', paths)  "
      ],
      "execution_count": null,
      "outputs": []
    },
    {
      "cell_type": "code",
      "metadata": {
        "colab": {
          "base_uri": "https://localhost:8080/"
        },
        "id": "NBs7qnJPr6bo",
        "outputId": "36003037-ec8c-4d88-98fb-30f97a11c234"
      },
      "source": [
        "# Kadane Algo\r\n",
        "ex = [-2, -3, 4, -1, -2, 1, 5, -3]\r\n",
        "def kadane(lst):\r\n",
        "  sum = 0\r\n",
        "  current = 0\r\n",
        "  for item in lst:\r\n",
        "    current += item\r\n",
        "    if current < 0:\r\n",
        "      current = 0\r\n",
        "    if current >= sum:\r\n",
        "      sum = current\r\n",
        "  return sum\r\n",
        "\r\n",
        "print(kadane(ex))"
      ],
      "execution_count": 13,
      "outputs": [
        {
          "output_type": "stream",
          "text": [
            "7\n"
          ],
          "name": "stdout"
        }
      ]
    },
    {
      "cell_type": "code",
      "metadata": {
        "colab": {
          "base_uri": "https://localhost:8080/"
        },
        "id": "Q_-xDI7LFiJ6",
        "outputId": "7b9f5a58-45bb-44e7-f045-fa3a73e77ac3"
      },
      "source": [
        "a = [2, 1, 3, 5, 3, 2]\r\n",
        "def firstDuplicate(a):\r\n",
        "    dct = {}\r\n",
        "    for ind, item in enumerate(a):\r\n",
        "        if item not in dct.keys():\r\n",
        "            dct[item] = [ind]\r\n",
        "        else:\r\n",
        "            dct[item].append(ind)\r\n",
        "    indexes = []        \r\n",
        "    for value in dct.values():\r\n",
        "        if len(value)>1:\r\n",
        "            indexes.append(value)\r\n",
        "    print(dct)\r\n",
        "    return sorted(indexes)[0][0]  \r\n",
        "firstDuplicate(a)\r\n",
        "\r\n"
      ],
      "execution_count": 25,
      "outputs": [
        {
          "output_type": "stream",
          "text": [
            "{2: [0, 5], 1: [1], 3: [2, 4], 5: [3]}\n"
          ],
          "name": "stdout"
        },
        {
          "output_type": "execute_result",
          "data": {
            "text/plain": [
              "0"
            ]
          },
          "metadata": {
            "tags": []
          },
          "execution_count": 25
        }
      ]
    },
    {
      "cell_type": "code",
      "metadata": {
        "id": "guomMwwW-q_2"
      },
      "source": [
        "a = [2, 1, 3, 5, 3, 2]\r\n",
        "b = set(a)\r\n",
        "common = max(b,key = a.count)"
      ],
      "execution_count": null,
      "outputs": []
    },
    {
      "cell_type": "code",
      "metadata": {
        "id": "sCXj4iBoUHX_"
      },
      "source": [
        "#Histogram - max water volume problem\r\n",
        "hist = [4,0,0,6,0,0,3,0,5,0,1]"
      ],
      "execution_count": null,
      "outputs": []
    },
    {
      "cell_type": "code",
      "metadata": {
        "id": "QMfuXmdlfGmm"
      },
      "source": [
        "#Monte-Carlo Simulation\r\n",
        "import numpy as np"
      ],
      "execution_count": 1,
      "outputs": []
    },
    {
      "cell_type": "code",
      "metadata": {
        "colab": {
          "base_uri": "https://localhost:8080/"
        },
        "id": "13G_xrziaTH8",
        "outputId": "582e241d-0fef-4830-84d0-f9fbb1af9182"
      },
      "source": [
        "n = 20 # number of trials\r\n",
        "p = 0.1 # probability\r\n",
        "trials = 20000 # number of trials\r\n",
        "sum(np.random.binomial(20, 0.7, 20000) == 6)/20000."
      ],
      "execution_count": 10,
      "outputs": [
        {
          "output_type": "execute_result",
          "data": {
            "text/plain": [
              "0.0002"
            ]
          },
          "metadata": {
            "tags": []
          },
          "execution_count": 10
        }
      ]
    }
  ]
}