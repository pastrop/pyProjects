{
 "cells": [
  {
   "cell_type": "code",
   "execution_count": 19,
   "metadata": {},
   "outputs": [],
   "source": [
    "import requests\n",
    "import urllib.request\n",
    "from bs4 import BeautifulSoup"
   ]
  },
  {
   "cell_type": "code",
   "execution_count": 10,
   "metadata": {
    "scrolled": true
   },
   "outputs": [
    {
     "name": "stdout",
     "output_type": "stream",
     "text": [
      "20761\n"
     ]
    }
   ],
   "source": [
    "req=requests.get('http://www.boredpanda.com/sitemap.xml')\n",
    "content=req.content\n",
    "soup=BeautifulSoup(content,'html.parser')\n",
    "links=soup.find('loc')\n",
    "websites=links.contents\n",
    "length=len(soup.find_all('loc'))\n",
    "print(length)"
   ]
  },
  {
   "cell_type": "code",
   "execution_count": 56,
   "metadata": {},
   "outputs": [
    {
     "name": "stdout",
     "output_type": "stream",
     "text": [
      "['4', '4', '4', '4', '4', '4', '4', 'And', 'And', 'And', 'And', 'And', 'And', 'And', 'Arrested', 'Arrested', 'Arrested', 'Arrested', 'Arrested', 'Arrested', 'Arrested', 'Bored', 'Bored', 'Bored', 'Bored', 'Bored', 'Bored', 'Bored', 'Bored', 'Bored', 'Bored', 'Bored', 'Bored', 'Bored', 'Bored', 'Bored', 'Bored', 'Bored', 'Bored', 'Bored', 'Bored', 'Bored', 'Bored', 'Brutus', 'Brutus', 'Brutus', 'Brutus', 'Brutus', 'Brutus', 'Brutus', 'Comics', 'Comics', 'Comics', 'Comics', 'Comics', 'Comics', 'Comics', 'Day', 'Day', 'Day', 'Day', 'Day', 'Day', 'Day', 'Do', 'Do', 'Do', 'Do', 'Do', 'Do', 'Do', 'Draw-Tography', 'Draw-Tography', 'Draw-Tography', 'Draw-Tography', 'Draw-Tography', 'Draw-Tography', 'Draw-Tography', 'Draw-Tography', 'Ex-Cop’s', 'Ex-Cop’s', 'Ex-Cop’s', 'Ex-Cop’s', 'Ex-Cop’s', 'Ex-Cop’s', 'Ex-Cop’s', 'Get', 'Get', 'Get', 'Get', 'Get', 'Get', 'Get', 'Magazine', 'Magazine', 'Magazine', 'Magazine', 'Magazine', 'Magazine', 'Magazine', 'Magazine', 'Magazine', 'Magazine', 'Magazine', 'Magazine', 'Magazine', 'Magazine', 'Make', 'Make', 'Make', 'Make', 'Make', 'Make', 'Make', 'Never', 'Never', 'Never', 'Never', 'Never', 'Never', 'Never', 'New', 'New', 'New', 'New', 'New', 'New', 'New', 'On', 'On', 'On', 'On', 'On', 'On', 'On', 'Only', 'Only', 'Only', 'Only', 'Only', 'Only', 'Only', 'Only', 'Only', 'Only', 'Only', 'Only', 'Only', 'Only', 'Panda', 'Panda', 'Panda', 'Panda', 'Panda', 'Panda', 'Panda', 'Panda', 'Panda', 'Panda', 'Panda', 'Panda', 'Panda', 'Panda', 'Panda', 'Panda', 'Panda', 'Panda', 'Panda', 'Panda', 'Panda', 'Panda', 'Pixie', 'Pixie', 'Pixie', 'Pixie', 'Pixie', 'Pixie', 'Pixie', 'Shares', 'Shares', 'Shares', 'Shares', 'Shares', 'Shares', 'Shares', 'Should', 'Should', 'Should', 'Should', 'Should', 'Should', 'Should', 'That', 'That', 'That', 'That', 'That', 'That', 'That', 'The', 'The', 'The', 'The', 'The', 'The', 'The', 'The', 'The', 'The', 'The', 'The', 'The', 'The', 'Tips', 'Tips', 'Tips', 'Tips', 'Tips', 'Tips', 'Tips', 'What', 'What', 'What', 'What', 'What', 'What', 'What', 'When', 'When', 'When', 'When', 'When', 'When', 'When', 'Wife', 'Wife', 'Wife', 'Wife', 'Wife', 'Wife', 'Wife', 'Will', 'Will', 'Will', 'Will', 'Will', 'Will', 'Will', 'You', 'You', 'You', 'You', 'You', 'You', 'You', 'You', 'You', 'You', 'You', 'You', 'You', 'You', 'Your', 'Your', 'Your', 'Your', 'Your', 'Your', 'Your', '|', '|', '|', '|', '|', '|', '|', '|', '|', '|', '|', '|', '|', '|', '|', '|', '|', '|', '|', '|', '|', '|']\n"
     ]
    }
   ],
   "source": [
    "stuff=soup.find_all('loc', limit=5)  \n",
    "for item in stuff:\n",
    "    panda_content=requests.get(item.text).text\n",
    "    soup_from_item = BeautifulSoup(panda_content,'html.parser')\n",
    "    arr += soup_from_item.title.string.split()\n",
    "arr_new=[item for item in arr if item != 'Pandas'and item !='For'and item !='BoredPanda' and item != '-']\n",
    "arr_new.sort()\n",
    "print(arr_new)\n"
   ]
  }
 ],
 "metadata": {
  "kernelspec": {
   "display_name": "Python 3",
   "language": "python",
   "name": "python3"
  },
  "language_info": {
   "codemirror_mode": {
    "name": "ipython",
    "version": 3
   },
   "file_extension": ".py",
   "mimetype": "text/x-python",
   "name": "python",
   "nbconvert_exporter": "python",
   "pygments_lexer": "ipython3",
   "version": "3.7.0"
  }
 },
 "nbformat": 4,
 "nbformat_minor": 2
}
