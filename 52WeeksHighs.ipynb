{
  "nbformat": 4,
  "nbformat_minor": 0,
  "metadata": {
    "colab": {
      "name": "52WeeksHighs.ipynb",
      "provenance": [],
      "authorship_tag": "ABX9TyNp6M6p/3jHnDqQcgjHP3QP",
      "include_colab_link": true
    },
    "kernelspec": {
      "name": "python3",
      "display_name": "Python 3"
    }
  },
  "cells": [
    {
      "cell_type": "markdown",
      "metadata": {
        "id": "view-in-github",
        "colab_type": "text"
      },
      "source": [
        "<a href=\"https://colab.research.google.com/github/pastrop/pyProjects/blob/master/52WeeksHighs.ipynb\" target=\"_parent\"><img src=\"https://colab.research.google.com/assets/colab-badge.svg\" alt=\"Open In Colab\"/></a>"
      ]
    },
    {
      "cell_type": "markdown",
      "metadata": {
        "id": "SgHV4vJ7vZ4o"
      },
      "source": [
        "# Getting a list of NASDAQ Tickers\n",
        "*(don't forget to clean up the header from the csv file)*"
      ]
    },
    {
      "cell_type": "code",
      "metadata": {
        "colab": {
          "base_uri": "https://localhost:8080/"
        },
        "id": "MpP3MTnusDj2",
        "outputId": "3fd77e8d-80a8-472e-ef2a-51d508cb7137"
      },
      "source": [
        "import os\n",
        " os.system(\"curl --ftp-ssl anonymous:jupi@jupi.com \"\n",
        "          \"ftp://ftp.nasdaqtrader.com/SymbolDirectory/nasdaqlisted.txt \"\n",
        "          \"> nasdaq.lst\")"
      ],
      "execution_count": 33,
      "outputs": [
        {
          "output_type": "execute_result",
          "data": {
            "text/plain": [
              "0"
            ]
          },
          "metadata": {
            "tags": []
          },
          "execution_count": 33
        }
      ]
    },
    {
      "cell_type": "code",
      "metadata": {
        "id": "2ahvi8UfsMsW"
      },
      "source": [
        "os.system(\"tail -n +9 nasdaq.lst | cat | sed '$d' | sed 's/|/ /g' > \"\n",
        "          \"nasdaq.lst2\")"
      ],
      "execution_count": null,
      "outputs": []
    },
    {
      "cell_type": "code",
      "metadata": {
        "id": "GF0SfVMAssKk"
      },
      "source": [
        "os.system(\"awk '{print $1}' nasdaq.lst2 > nasdaq.csv\")\n",
        "os.system(\"echo; head nasdaq.csv; echo '...'; tail nasdaq.csv\")"
      ],
      "execution_count": null,
      "outputs": []
    },
    {
      "cell_type": "markdown",
      "metadata": {
        "id": "NAg8NFTgv5aa"
      },
      "source": [
        "# Business Logic"
      ]
    },
    {
      "cell_type": "code",
      "metadata": {
        "colab": {
          "resources": {
            "http://localhost:8080/nbextensions/google.colab/files.js": {
              "data": "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",
              "ok": true,
              "headers": [
                [
                  "content-type",
                  "application/javascript"
                ]
              ],
              "status": 200,
              "status_text": ""
            }
          },
          "base_uri": "https://localhost:8080/",
          "height": 72
        },
        "id": "w3Fdg7YFuk-8",
        "outputId": "b4cf1b84-67c3-4e2e-dd0e-eb8be1d8df8a"
      },
      "source": [
        "# file upload while using Google Colab\n",
        "from google.colab import files\n",
        "uploaded = files.upload()"
      ],
      "execution_count": 39,
      "outputs": [
        {
          "output_type": "display_data",
          "data": {
            "text/html": [
              "\n",
              "     <input type=\"file\" id=\"files-ae021313-ad47-4a05-9887-f385f5d84e2d\" name=\"files[]\" multiple disabled\n",
              "        style=\"border:none\" />\n",
              "     <output id=\"result-ae021313-ad47-4a05-9887-f385f5d84e2d\">\n",
              "      Upload widget is only available when the cell has been executed in the\n",
              "      current browser session. Please rerun this cell to enable.\n",
              "      </output>\n",
              "      <script src=\"/nbextensions/google.colab/files.js\"></script> "
            ],
            "text/plain": [
              "<IPython.core.display.HTML object>"
            ]
          },
          "metadata": {
            "tags": []
          }
        },
        {
          "output_type": "stream",
          "text": [
            "Saving nasdaq.csv to nasdaq.csv\n"
          ],
          "name": "stdout"
        }
      ]
    },
    {
      "cell_type": "code",
      "metadata": {
        "id": "dyL6GSJRs-iA"
      },
      "source": [
        "import pandas as pd\n",
        "data = pd.read_csv(\"nasdaq.csv\", index_col=None, header=None)\n",
        "data.columns=[\"Ticker\"]\n",
        "print(data['Ticker'].values)"
      ],
      "execution_count": null,
      "outputs": []
    },
    {
      "cell_type": "code",
      "metadata": {
        "colab": {
          "base_uri": "https://localhost:8080/"
        },
        "id": "72xr5e03u3Y6",
        "outputId": "ab55c281-8b19-4023-8af4-e71135b9ce74"
      },
      "source": [
        "print(data['Ticker'].values)"
      ],
      "execution_count": 41,
      "outputs": [
        {
          "output_type": "stream",
          "text": [
            "['AACG' 'AACQ' 'AACQU' ... 'ZXZZT' 'ZYNE' 'ZYXI']\n"
          ],
          "name": "stdout"
        }
      ]
    },
    {
      "cell_type": "code",
      "metadata": {
        "id": "DHRxCSrdfSVI"
      },
      "source": [
        "%%capture\n",
        "!pip install yfinance"
      ],
      "execution_count": null,
      "outputs": []
    },
    {
      "cell_type": "code",
      "metadata": {
        "id": "FyP3gFD_fInf"
      },
      "source": [
        "import yfinance as yf"
      ],
      "execution_count": 18,
      "outputs": []
    },
    {
      "cell_type": "code",
      "metadata": {
        "colab": {
          "base_uri": "https://localhost:8080/"
        },
        "id": "MSYnu23bf5S_",
        "outputId": "82811216-0f96-47fc-c896-c61d6e130d62"
      },
      "source": [
        "from datetime import datetime\n",
        "from datetime import timedelta\n",
        "today = datetime.today()\n",
        "yesterday = today - timedelta(days=30)\n",
        "print(today.strftime('%Y-%m-%d'))\n",
        "print(yesterday.strftime('%Y-%m-%d'))"
      ],
      "execution_count": 19,
      "outputs": [
        {
          "output_type": "stream",
          "text": [
            "2021-02-28\n",
            "2021-01-29\n"
          ],
          "name": "stdout"
        }
      ]
    },
    {
      "cell_type": "code",
      "metadata": {
        "id": "oW7QU8iogh4I"
      },
      "source": [
        "msft = yf.Ticker('MSFT')\n",
        "hist = msft.history(period = '1y')"
      ],
      "execution_count": 21,
      "outputs": []
    },
    {
      "cell_type": "code",
      "metadata": {
        "id": "GZ-pP743oTT-"
      },
      "source": [
        "prices = list(hist['Close'].values)"
      ],
      "execution_count": 26,
      "outputs": []
    },
    {
      "cell_type": "code",
      "metadata": {
        "id": "7T2yTC5Hg7fN"
      },
      "source": [
        "number_of_highs_30 = []\n",
        "pr_max = max(prices[:-30])\n",
        "current = prices[-31]\n",
        "index = 0\n",
        "for item in prices[-30:]:\n",
        "  if item >= pr_max and item >= current:\n",
        "    number_of_highs_30.append(item)\n",
        "    current = item"
      ],
      "execution_count": 29,
      "outputs": []
    },
    {
      "cell_type": "code",
      "metadata": {
        "id": "5xdFugCBpNFc"
      },
      "source": [
        "number_of_highs_30"
      ],
      "execution_count": null,
      "outputs": []
    },
    {
      "cell_type": "markdown",
      "metadata": {
        "id": "dUtP-_dSyEOo"
      },
      "source": [
        "# Smth looking like production"
      ]
    },
    {
      "cell_type": "code",
      "metadata": {
        "colab": {
          "base_uri": "https://localhost:8080/"
        },
        "id": "uGucO4C-yDPR",
        "outputId": "050e175d-30b7-4397-c9ed-7f27f7a49827"
      },
      "source": [
        "result = []\n",
        "for tckr in data['Ticker'].values[:10]:\n",
        "  ticker = yf.Ticker(tckr)\n",
        "  print(ticker)\n",
        "  hist = ticker.history(period = '1y')\n",
        "  closing_price = list(hist['Close'].values)\n",
        "  print(closing_price)\n",
        "  number_of_highs_30 = []\n",
        "  if len(closing_price[:-30])==0:\n",
        "    break\n",
        "  pr_max = max(closing_price[:-30])\n",
        "  current = closing_price[-31]\n",
        "  index = 0\n",
        "  for item in closing_price[-30:]:\n",
        "    if item >= pr_max and item >= current:\n",
        "      number_of_highs_30.append(item)\n",
        "      current = item\n",
        "  result.append((tckr,number_of_highs_30))"
      ],
      "execution_count": 52,
      "outputs": [
        {
          "output_type": "stream",
          "text": [
            "yfinance.Ticker object <AACG>\n",
            "[1.059999942779541, 1.0299999713897705, 0.9800000190734863, 0.9800000190734863, 1.0, 0.9599999785423279, 1.0, 0.9700000286102295, 0.9800000190734863, 0.9599999785423279, 0.8999999761581421, 0.8600000143051147, 0.8500000238418579, 0.9100000262260437, 0.7300000190734863, 0.7400000095367432, 0.8999999761581421, 0.8399999737739563, 0.8600000143051147, 0.9100000262260437, 1.0, 0.9599999785423279, 0.949999988079071, 0.949999988079071, 0.949999988079071, 0.9200000166893005, 0.949999988079071, 0.949999988079071, 0.8999999761581421, 0.8799999952316284, 0.8500000238418579, 0.8199999928474426, 0.8199999928474426, 0.8600000143051147, 0.8500000238418579, 0.8399999737739563, 0.8299999833106995, 0.7699999809265137, 0.7599999904632568, 0.7400000095367432, 0.75, 0.6700000166893005, 0.75, 0.7200000286102295, 0.7200000286102295, 0.7400000095367432, 0.7099999785423279, 0.7200000286102295, 0.75, 0.800000011920929, 0.75, 0.7599999904632568, 0.7099999785423279, 0.7599999904632568, 0.7200000286102295, 0.7099999785423279, 0.7200000286102295, 0.7599999904632568, 0.7900000214576721, 0.8999999761581421, 0.8299999833106995, 0.8999999761581421, 0.8999999761581421, 0.9399999976158142, 0.8999999761581421, 0.9100000262260437, 0.8799999952316284, 0.9100000262260437, 0.8600000143051147, 0.8600000143051147, 0.8899999856948853, 0.9200000166893005, 1.0, 1.1200000047683716, 1.1399999856948853, 1.2899999618530273, 1.1200000047683716, 1.1200000047683716, 1.0, 0.949999988079071, 1.1399999856948853, 1.1699999570846558, 1.25, 1.2300000190734863, 1.149999976158142, 1.1699999570846558, 1.2599999904632568, 1.309999942779541, 1.309999942779541, 1.3600000143051147, 1.3700000047683716, 1.4800000190734863, 1.4900000095367432, 1.440000057220459, 1.4600000381469727, 1.5800000429153442, 1.5199999809265137, 1.7000000476837158, 1.7100000381469727, 1.3799999952316284, 1.309999942779541, 1.2899999618530273, 1.25, 1.159999966621399, 1.1399999856948853, 1.1200000047683716, 1.0700000524520874, 1.0499999523162842, 1.059999942779541, 1.3700000047683716, 1.2699999809265137, 1.2999999523162842, 1.2699999809265137, 1.2599999904632568, 1.2100000381469727, 1.149999976158142, 1.100000023841858, 1.100000023841858, 1.100000023841858, 1.1399999856948853, 1.190000057220459, 1.100000023841858, 1.1399999856948853, 1.1299999952316284, 1.0800000429153442, 1.090000033378601, 1.100000023841858, 1.059999942779541, 1.2000000476837158, 1.1200000047683716, 1.1699999570846558, 1.1299999952316284, 1.1100000143051147, 1.100000023841858, 1.1399999856948853, 1.090000033378601, 1.0700000524520874, 1.059999942779541, 1.090000033378601, 1.100000023841858, 1.1200000047683716, 1.090000033378601, 1.059999942779541, 1.059999942779541, 1.0700000524520874, 1.0800000429153442, 1.0700000524520874, 1.100000023841858, 1.149999976158142, 1.1299999952316284, 1.1100000143051147, 1.1299999952316284, 1.100000023841858, 1.1100000143051147, 1.1100000143051147, 1.100000023841858, 1.090000033378601, 1.0800000429153442, 1.190000057220459, 1.090000033378601, 1.149999976158142, 1.1699999570846558, 1.190000057220459, 1.2200000286102295, 1.25, 1.1799999475479126, 1.2599999904632568, 1.2300000190734863, 1.100000023841858, 1.1200000047683716, 1.090000033378601, 1.090000033378601, 1.090000033378601, 1.100000023841858, 1.1299999952316284, 1.1299999952316284, 1.1299999952316284, 1.159999966621399, 1.149999976158142, 1.149999976158142, 1.1399999856948853, 1.2200000286102295, 1.1299999952316284, 1.1200000047683716, 1.1299999952316284, 1.159999966621399, 1.159999966621399, 1.149999976158142, 1.1699999570846558, 1.2100000381469727, 1.2699999809265137, 1.2400000095367432, 1.2200000286102295, 1.149999976158142, 1.1699999570846558, 1.2300000190734863, 1.1799999475479126, 1.190000057220459, 1.190000057220459, 1.149999976158142, 1.1799999475479126, 1.159999966621399, 1.1699999570846558, 1.2000000476837158, 1.2000000476837158, 1.1799999475479126, 1.2000000476837158, 1.2000000476837158, 1.1799999475479126, 1.2799999713897705, 1.2799999713897705, 1.2100000381469727, 1.190000057220459, 1.190000057220459, 1.190000057220459, 1.1799999475479126, 1.2300000190734863, 1.2200000286102295, 1.2699999809265137, 1.2400000095367432, 1.2599999904632568, 1.25, 1.2100000381469727, 1.2599999904632568, 1.2599999904632568, 1.2999999523162842, 1.3799999952316284, 1.399999976158142, 1.350000023841858, 1.3899999856948853, 1.3799999952316284, 1.3200000524520874, 1.2699999809265137, 1.309999942779541, 1.340000033378601, 1.399999976158142, 1.3600000143051147, 14.300000190734863, 6.329999923706055, 5.849999904632568, 6.210000038146973, 6.079999923706055, 5.619999885559082, 5.71999979019165, 5.900000095367432, 6.019999980926514, 5.75, 5.659999847412109, 5.389999866485596, 4.460000038146973, 5.059999942779541, 5.059999942779541, 5.050000190734863]\n",
            "yfinance.Ticker object <AACQ>\n",
            "[10.0, 9.949999809265137, 9.989999771118164, 9.960000038146973, 9.960000038146973, 10.0, 9.970000267028809, 9.975000381469727, 9.930000305175781, 9.949999809265137, 9.949999809265137, 9.920000076293945, 9.949999809265137, 9.869999885559082, 9.880000114440918, 9.949999809265137, 9.9399995803833, 9.9399995803833, 9.9399995803833, 9.949999809265137, 9.864999771118164, 9.779999732971191, 9.800000190734863, 9.78499984741211, 9.770000457763672, 9.800000190734863, 9.800000190734863, 9.800000190734863, 9.789999961853027, 9.779999732971191, 9.800000190734863, 9.800000190734863, 9.75, 9.779999732971191, 9.710000038146973, 9.6899995803833, 9.6850004196167, 9.619999885559082, 9.649999618530273, 9.647000312805176, 9.6899995803833, 9.710000038146973, 9.720000267028809, 9.779999732971191, 9.720000267028809, 9.739999771118164, 9.75, 9.739999771118164, 9.699999809265137, 9.779999732971191, 9.800000190734863, 9.779999732971191, 9.800000190734863, 9.869999885559082, 9.890000343322754, 9.880000114440918, 9.90999984741211, 9.920000076293945, 9.949999809265137, 9.949999809265137, 9.949999809265137, 9.949999809265137, 9.949999809265137, 9.949999809265137, 10.09000015258789, 10.3100004196167, 10.300000190734863, 10.300000190734863, 10.369999885559082, 10.449999809265137, 10.289999961853027, 10.300000190734863, 10.350000381469727, 10.430000305175781, 10.399999618530273, 10.449999809265137, 10.420000076293945, 10.460000038146973, 10.539999961853027, 10.539999961853027, 10.470000267028809, 10.630000114440918, 10.65999984741211, 10.5600004196167, 10.619999885559082, 10.539999961853027, 10.529999732971191, 10.579999923706055, 11.010000228881836, 11.039999961853027, 11.069999694824219, 10.899999618530273, 10.84000015258789, 10.75, 10.960000038146973, 11.029999732971191, 11.020000457763672, 10.640000343322754, 10.550000190734863, 10.579999923706055, 10.619999885559082, 10.75, 10.829999923706055, 11.140000343322754, 11.119999885559082, 11.300000190734863, 11.4399995803833, 11.350000381469727, 11.399999618530273, 11.260000228881836, 11.270000457763672, 14.0, 13.5, 12.779999732971191, 13.199999809265137, 13.369999885559082, 12.390000343322754, 11.800000190734863, 11.229999542236328, 10.880000114440918]\n",
            "yfinance.Ticker object <AACQU>\n",
            "[10.350000381469727, 10.359999656677246, 10.369999885559082, 10.359999656677246, 10.4399995803833, 10.449999809265137, 10.399999618530273, 10.416000366210938, 10.369999885559082, 10.430000305175781, 10.399999618530273, 10.350000381469727, 10.300000190734863, 10.119999885559082, 10.039999961853027, 10.229999542236328, 10.100000381469727, 10.100000381469727, 10.130000114440918, 10.09000015258789, 10.199999809265137, 10.149999618530273, 10.149999618530273, 10.100000381469727, 10.149999618530273, 10.125, 10.079999923706055, 10.055000305175781, 10.029999732971191, 10.039999961853027, 10.010000228881836, 10.039999961853027, 10.029999732971191, 10.029999732971191, 10.050000190734863, 10.100000381469727, 10.199999809265137, 10.079999923706055, 10.4399995803833, 10.378999710083008, 10.470000267028809, 10.350000381469727, 10.489999771118164, 10.430000305175781, 10.430000305175781, 10.489999771118164, 10.470000267028809, 10.428000450134277, 10.390000343322754, 10.300000190734863, 10.364999771118164, 10.295000076293945, 10.350000381469727, 10.479999542236328, 10.41100025177002, 10.390000343322754, 10.399999618530273, 10.380000114440918, 10.329999923706055, 10.25, 10.25, 10.140000343322754, 10.1899995803833, 10.239999771118164, 10.255000114440918, 10.300000190734863, 10.350000381469727, 10.25, 10.380000114440918, 10.25, 10.199999809265137, 10.170000076293945, 10.09000015258789, 10.069999694824219, 10.050000190734863, 10.0, 10.010000228881836, 10.0, 10.0, 10.032999992370605, 10.039999961853027, 10.050000190734863, 10.039999961853027, 10.069999694824219, 10.119999885559082, 10.119999885559082, 10.149999618530273, 10.130000114440918, 10.15999984741211, 10.125, 10.145000457763672, 10.229999542236328, 10.260000228881836, 10.260000228881836, 10.279999732971191, 10.329999923706055, 10.369999885559082, 10.529000282287598, 10.484000205993652, 10.449999809265137, 10.460000038146973, 10.5, 10.710000038146973, 10.920000076293945, 10.970000267028809, 10.899999618530273, 11.0, 10.989999771118164, 10.800000190734863, 10.899999618530273, 10.880000114440918, 10.979999542236328, 11.0, 11.050000190734863, 11.0600004196167, 11.199999809265137, 11.329999923706055, 11.319999694824219, 11.220000267028809, 11.239999771118164, 11.300000190734863, 11.289999961853027, 11.25, 11.149999618530273, 11.1850004196167, 11.239999771118164, 11.800000190734863, 11.850000381469727, 11.899999618530273, 11.680000305175781, 11.579999923706055, 11.5, 11.829999923706055, 11.869999885559082, 11.8100004196167, 11.399999618530273, 11.149999618530273, 11.220000267028809, 11.260000228881836, 11.430000305175781, 11.640000343322754, 11.970000267028809, 11.949999809265137, 12.119999885559082, 12.300000190734863, 12.199999809265137, 12.199999809265137, 11.9399995803833, 12.100000381469727, 15.34000015258789, 15.0, 13.90999984741211, 14.460000038146973, 14.720000267028809, 13.399999618530273, 12.869999885559082, 12.079999923706055, 11.920000076293945]\n",
            "yfinance.Ticker object <AACQW>\n",
            "[2.7799999713897705]\n"
          ],
          "name": "stdout"
        }
      ]
    },
    {
      "cell_type": "code",
      "metadata": {
        "colab": {
          "base_uri": "https://localhost:8080/"
        },
        "id": "3dVCJkfnzcq3",
        "outputId": "5be3082e-a7f6-4d04-c4fc-2a1b8d3bd4ba"
      },
      "source": [
        "result"
      ],
      "execution_count": 53,
      "outputs": [
        {
          "output_type": "execute_result",
          "data": {
            "text/plain": [
              "[('AACG', [14.300000190734863]),\n",
              " ('AACQ',\n",
              "  [11.069999694824219,\n",
              "   11.140000343322754,\n",
              "   11.300000190734863,\n",
              "   11.4399995803833,\n",
              "   14.0]),\n",
              " ('AACQU',\n",
              "  [11.899999618530273,\n",
              "   11.970000267028809,\n",
              "   12.119999885559082,\n",
              "   12.300000190734863,\n",
              "   15.34000015258789])]"
            ]
          },
          "metadata": {
            "tags": []
          },
          "execution_count": 53
        }
      ]
    }
  ]
}