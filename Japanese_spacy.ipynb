{
  "nbformat": 4,
  "nbformat_minor": 0,
  "metadata": {
    "colab": {
      "provenance": [],
      "authorship_tag": "ABX9TyPNFEZUueXruvM6ny/rnhgG",
      "include_colab_link": true
    },
    "kernelspec": {
      "name": "python3",
      "display_name": "Python 3"
    },
    "language_info": {
      "name": "python"
    }
  },
  "cells": [
    {
      "cell_type": "markdown",
      "metadata": {
        "id": "view-in-github",
        "colab_type": "text"
      },
      "source": [
        "<a href=\"https://colab.research.google.com/github/pastrop/pyProjects/blob/master/Japanese_spacy.ipynb\" target=\"_parent\"><img src=\"https://colab.research.google.com/assets/colab-badge.svg\" alt=\"Open In Colab\"/></a>"
      ]
    },
    {
      "cell_type": "code",
      "source": [
        "!python -m spacy download ja_core_news_sm"
      ],
      "metadata": {
        "id": "BOZPEKgZ8B0z"
      },
      "execution_count": null,
      "outputs": []
    },
    {
      "cell_type": "code",
      "execution_count": 2,
      "metadata": {
        "id": "v_QuzeUX6_-U"
      },
      "outputs": [],
      "source": [
        "import spacy\n",
        "from spacy.lang.ja.examples import sentences "
      ]
    },
    {
      "cell_type": "code",
      "source": [
        "nlp = spacy.load(\"ja_core_news_sm\")"
      ],
      "metadata": {
        "id": "IF-O-3vP7a8_"
      },
      "execution_count": 6,
      "outputs": []
    },
    {
      "cell_type": "code",
      "source": [
        "example = '走行後'+' 走行'+ ' 走行中'\n",
        "example1 = '走行後'+'走行'+ '走行中'\n",
        "example2 = '走行距離 ' + '走行して '+ '走行中に突然'"
      ],
      "metadata": {
        "id": "EP2Ny1l47KpS"
      },
      "execution_count": 13,
      "outputs": []
    },
    {
      "cell_type": "code",
      "source": [
        "doc = nlp(example2)\n",
        "print(doc.text)\n",
        "for token in doc:\n",
        "    print(token.text, token.pos_, token.dep_)"
      ],
      "metadata": {
        "colab": {
          "base_uri": "https://localhost:8080/"
        },
        "id": "il0AMc7B7E0S",
        "outputId": "81a8660c-a0ac-4912-c9a0-f28c7ba5a5bd"
      },
      "execution_count": 14,
      "outputs": [
        {
          "output_type": "stream",
          "name": "stdout",
          "text": [
            "走行距離 走行して 走行中に突然\n",
            "走行 NOUN compound\n",
            "距離 NOUN compound\n",
            "走行 VERB advcl\n",
            "し AUX aux\n",
            "て SCONJ mark\n",
            "走行 NOUN compound\n",
            "中 NOUN obl\n",
            "に ADP case\n",
            "突然 ADV ROOT\n"
          ]
        }
      ]
    },
    {
      "cell_type": "code",
      "source": [
        "doc = nlp(example1)\n",
        "print(doc.text)\n",
        "for token in doc:\n",
        "    print(token.text, token.pos_, token.dep_)"
      ],
      "metadata": {
        "colab": {
          "base_uri": "https://localhost:8080/"
        },
        "id": "xru3tHIQ8sZF",
        "outputId": "19bac5f8-7a0f-419d-9147-97514bb38a55"
      },
      "execution_count": 12,
      "outputs": [
        {
          "output_type": "stream",
          "name": "stdout",
          "text": [
            "走行後走行走行中\n",
            "走行 NOUN compound\n",
            "後 NOUN nmod\n",
            "走行 NOUN compound\n",
            "走行 NOUN compound\n",
            "中 NOUN ROOT\n"
          ]
        }
      ]
    }
  ]
}